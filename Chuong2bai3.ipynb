{
  "nbformat": 4,
  "nbformat_minor": 0,
  "metadata": {
    "colab": {
      "provenance": [],
      "authorship_tag": "ABX9TyO+2yU/KRTqRxUtUBDVzYrQ",
      "include_colab_link": true
    },
    "kernelspec": {
      "name": "python3",
      "display_name": "Python 3"
    },
    "language_info": {
      "name": "python"
    }
  },
  "cells": [
    {
      "cell_type": "markdown",
      "metadata": {
        "id": "view-in-github",
        "colab_type": "text"
      },
      "source": [
        "<a href=\"https://colab.research.google.com/github/Tiberu2611/Machine-Learning/blob/Machine-Learning-1/Chuong2bai3.ipynb\" target=\"_parent\"><img src=\"https://colab.research.google.com/assets/colab-badge.svg\" alt=\"Open In Colab\"/></a>"
      ]
    },
    {
      "cell_type": "markdown",
      "source": [
        "Hàm gradientDescent(X, y, w, alpha, n), với:\n",
        "- X, y là dữ liệu huấn luyện\n",
        "- w là vector trọng số\n",
        "- alpha là learning rate - 1 số thực\n",
        "- n là số bước lặp \n",
        "Hàm trả về:\n",
        "- Giá trị vector trọng số tối ưu tìm được theo thuật toán Gradient Descent - w_optimal\n",
        "- List chứa tất cả các giá trị của hàm mất mát tương ứng với các giá trị vector trọng số tại mỗi bước lặp"
      ],
      "metadata": {
        "id": "hL9pg9hfRRKH"
      }
    },
    {
      "cell_type": "code",
      "execution_count": 2,
      "metadata": {
        "id": "2BSZAVBBRNVD"
      },
      "outputs": [],
      "source": [
        "import numpy as np\n",
        "\n",
        "def gradientDescent(X, y, w, alpha, n):\n",
        "    m = y.shape[0]\n",
        "    J_history = []\n",
        "    w_optimal = w.copy()\n",
        "    for i in range(n):\n",
        "        w_optimal = w_optimal - (alpha/m)*(np.dot(X, w_optimal) - y).dot(X)\n",
        "        J_history.append(Loss_fuc(X, y, w_optimal))\n",
        "    return w_optimal, J_history"
      ]
    }
  ]
}