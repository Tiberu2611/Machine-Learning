{
  "nbformat": 4,
  "nbformat_minor": 0,
  "metadata": {
    "colab": {
      "provenance": [],
      "include_colab_link": true
    },
    "kernelspec": {
      "name": "python3",
      "display_name": "Python 3"
    },
    "language_info": {
      "name": "python"
    }
  },
  "cells": [
    {
      "cell_type": "markdown",
      "metadata": {
        "id": "view-in-github",
        "colab_type": "text"
      },
      "source": [
        "<a href=\"https://colab.research.google.com/github/Tiberu2611/Machine-Learning/blob/main/BTVN2_Vector_Ma_tr%E1%BA%ADn_Tensor.ipynb\" target=\"_parent\"><img src=\"https://colab.research.google.com/assets/colab-badge.svg\" alt=\"Open In Colab\"/></a>"
      ]
    },
    {
      "cell_type": "markdown",
      "source": [
        "BÀI ÔN TẬP KIẾN THỨC TOÁN VÀ LẬP TRÌNH"
      ],
      "metadata": {
        "id": "8rIqMQxDygGs"
      }
    },
    {
      "cell_type": "markdown",
      "source": [
        "1.Các phép toán với vector"
      ],
      "metadata": {
        "id": "uHAwpmmIyhuW"
      }
    },
    {
      "cell_type": "code",
      "source": [
        "import numpy as np"
      ],
      "metadata": {
        "id": "1_4x5EiNyuRK"
      },
      "execution_count": 1,
      "outputs": []
    },
    {
      "cell_type": "markdown",
      "source": [
        "Cộng 2 vector"
      ],
      "metadata": {
        "id": "Tbpy0vzxyyLA"
      }
    },
    {
      "cell_type": "code",
      "source": [
        "x = np.array([1,2,3,4])\n",
        "y = np.array([5,3,2,1])\n",
        "z = x+y"
      ],
      "metadata": {
        "id": "HwIacdjcy0do"
      },
      "execution_count": 2,
      "outputs": []
    },
    {
      "cell_type": "code",
      "source": [
        "print(z)"
      ],
      "metadata": {
        "colab": {
          "base_uri": "https://localhost:8080/"
        },
        "id": "JwueFJOty3KV",
        "outputId": "82113495-e476-4472-bdbe-81fec528a248"
      },
      "execution_count": 3,
      "outputs": [
        {
          "output_type": "stream",
          "name": "stdout",
          "text": [
            "[6 5 5 5]\n"
          ]
        }
      ]
    },
    {
      "cell_type": "code",
      "source": [
        "#kích thước vector \n",
        "print(z.ndim)"
      ],
      "metadata": {
        "colab": {
          "base_uri": "https://localhost:8080/"
        },
        "id": "9yHMw_Ddy6h2",
        "outputId": "6ecddf5f-f537-4c86-ce99-f18d5f5bf0d6"
      },
      "execution_count": 4,
      "outputs": [
        {
          "output_type": "stream",
          "name": "stdout",
          "text": [
            "1\n"
          ]
        }
      ]
    },
    {
      "cell_type": "code",
      "source": [
        "#số chiều của vector\n",
        "print(z.shape)"
      ],
      "metadata": {
        "colab": {
          "base_uri": "https://localhost:8080/"
        },
        "id": "bLt20aV7y86m",
        "outputId": "ffeefd36-1db3-4d35-8a1f-c7d408cc9da8"
      },
      "execution_count": 5,
      "outputs": [
        {
          "output_type": "stream",
          "name": "stdout",
          "text": [
            "(4,)\n"
          ]
        }
      ]
    },
    {
      "cell_type": "markdown",
      "source": [
        "Phép nhân đại lượng vô hướng với vector trong Python"
      ],
      "metadata": {
        "id": "2wwhmbK3y_JG"
      }
    },
    {
      "cell_type": "code",
      "source": [
        "x = np.array([1, 2, 3, 4])\n",
        "a = 15\n",
        "z = a*x"
      ],
      "metadata": {
        "id": "AX_e9lVszCAO"
      },
      "execution_count": 6,
      "outputs": []
    },
    {
      "cell_type": "code",
      "source": [
        "print(z)"
      ],
      "metadata": {
        "colab": {
          "base_uri": "https://localhost:8080/"
        },
        "id": "es2qXe5-zEGO",
        "outputId": "bac35d60-2534-487c-9b0d-c0fa72f32c82"
      },
      "execution_count": 7,
      "outputs": [
        {
          "output_type": "stream",
          "name": "stdout",
          "text": [
            "[15 30 45 60]\n"
          ]
        }
      ]
    },
    {
      "cell_type": "code",
      "source": [
        "#số chiều của vector\n",
        "print(z.ndim)"
      ],
      "metadata": {
        "colab": {
          "base_uri": "https://localhost:8080/"
        },
        "id": "THhRSZL1zGu6",
        "outputId": "e7e9a013-ceeb-47d2-83fe-46a7ea223b7a"
      },
      "execution_count": 8,
      "outputs": [
        {
          "output_type": "stream",
          "name": "stdout",
          "text": [
            "1\n"
          ]
        }
      ]
    },
    {
      "cell_type": "code",
      "source": [
        "#kích thước vector \n",
        "print(z.shape)"
      ],
      "metadata": {
        "colab": {
          "base_uri": "https://localhost:8080/"
        },
        "id": "NMMZ5ltEzJBH",
        "outputId": "27b56018-fba4-4262-e72f-e83505045fa1"
      },
      "execution_count": 9,
      "outputs": [
        {
          "output_type": "stream",
          "name": "stdout",
          "text": [
            "(4,)\n"
          ]
        }
      ]
    },
    {
      "cell_type": "markdown",
      "source": [
        "Tích vô hướng của 2 vector"
      ],
      "metadata": {
        "id": "FS23HlvDzM6Q"
      }
    },
    {
      "cell_type": "code",
      "source": [
        "x = np.array([1, 2, 3, 4])\n",
        "y = np.array([5, 3, 2, 1])\n",
        "z = np.dot(x,y)"
      ],
      "metadata": {
        "id": "cfwuIZsOzPFH"
      },
      "execution_count": 10,
      "outputs": []
    },
    {
      "cell_type": "code",
      "source": [
        "print(z)"
      ],
      "metadata": {
        "colab": {
          "base_uri": "https://localhost:8080/"
        },
        "id": "CzD3na4pzQzI",
        "outputId": "57ac1cd0-db76-46df-c98a-11b1bbb1e347"
      },
      "execution_count": 11,
      "outputs": [
        {
          "output_type": "stream",
          "name": "stdout",
          "text": [
            "21\n"
          ]
        }
      ]
    },
    {
      "cell_type": "code",
      "source": [
        "#số chiều của vector\n",
        "print(z.ndim)"
      ],
      "metadata": {
        "colab": {
          "base_uri": "https://localhost:8080/"
        },
        "id": "6PTZUQ6OzTWP",
        "outputId": "2d13f124-6659-4fbd-a690-87d21681f8f2"
      },
      "execution_count": 12,
      "outputs": [
        {
          "output_type": "stream",
          "name": "stdout",
          "text": [
            "0\n"
          ]
        }
      ]
    },
    {
      "cell_type": "code",
      "source": [
        "#kích thước vector \n",
        "print(z.shape)"
      ],
      "metadata": {
        "colab": {
          "base_uri": "https://localhost:8080/"
        },
        "id": "YZBoG0-QzVbD",
        "outputId": "a18bd814-4c5e-4a4e-bb82-dfdd6c44a7b8"
      },
      "execution_count": 13,
      "outputs": [
        {
          "output_type": "stream",
          "name": "stdout",
          "text": [
            "()\n"
          ]
        }
      ]
    },
    {
      "cell_type": "markdown",
      "source": [
        "Tích hữu hướng của 2 vector"
      ],
      "metadata": {
        "id": "3dxTfWTszXZ4"
      }
    },
    {
      "cell_type": "code",
      "source": [
        "x = np.array([1,2,3])\n",
        "y = np.array([3,2,1])\n",
        "z = np.cross(x, y)"
      ],
      "metadata": {
        "id": "SBlHmX3XzX7y"
      },
      "execution_count": 14,
      "outputs": []
    },
    {
      "cell_type": "code",
      "source": [
        "print(z)"
      ],
      "metadata": {
        "colab": {
          "base_uri": "https://localhost:8080/"
        },
        "id": "-pkJ2O0lzccb",
        "outputId": "678c0318-3305-4d72-d339-93ab5d579ada"
      },
      "execution_count": 15,
      "outputs": [
        {
          "output_type": "stream",
          "name": "stdout",
          "text": [
            "[-4  8 -4]\n"
          ]
        }
      ]
    },
    {
      "cell_type": "code",
      "source": [
        "#số chiều của vector\n",
        "print(z.ndim)"
      ],
      "metadata": {
        "colab": {
          "base_uri": "https://localhost:8080/"
        },
        "id": "aZMZ9yLxzei0",
        "outputId": "d24ce946-e9a8-4dd9-a261-72c4a6ca484e"
      },
      "execution_count": 16,
      "outputs": [
        {
          "output_type": "stream",
          "name": "stdout",
          "text": [
            "1\n"
          ]
        }
      ]
    },
    {
      "cell_type": "code",
      "source": [
        "#kích thước vector \n",
        "print(z.shape)"
      ],
      "metadata": {
        "colab": {
          "base_uri": "https://localhost:8080/"
        },
        "id": "EnhO6fIUzilD",
        "outputId": "0cfb4e0a-776e-49fe-f7c3-77d162fd5dbd"
      },
      "execution_count": 17,
      "outputs": [
        {
          "output_type": "stream",
          "name": "stdout",
          "text": [
            "(3,)\n"
          ]
        }
      ]
    },
    {
      "cell_type": "markdown",
      "source": [
        "Phép nhân các phần tử có vị trí tương ứng (elementwise multiplication) 2 vector"
      ],
      "metadata": {
        "id": "G396Fghwzlpg"
      }
    },
    {
      "cell_type": "code",
      "source": [
        "x = np.array([1,2,3,4])\n",
        "y = np.array([5,3,2,1])\n",
        "z = np.multiply(x,y)"
      ],
      "metadata": {
        "id": "QYB8sxftzmVI"
      },
      "execution_count": 18,
      "outputs": []
    },
    {
      "cell_type": "code",
      "source": [
        "print(z)"
      ],
      "metadata": {
        "colab": {
          "base_uri": "https://localhost:8080/"
        },
        "id": "0SoXqVVMzpvU",
        "outputId": "371e7eb4-9102-4e45-9b57-89ecd092704e"
      },
      "execution_count": 19,
      "outputs": [
        {
          "output_type": "stream",
          "name": "stdout",
          "text": [
            "[5 6 6 4]\n"
          ]
        }
      ]
    },
    {
      "cell_type": "code",
      "source": [
        "#số chiều của vector\n",
        "print(z.ndim)"
      ],
      "metadata": {
        "colab": {
          "base_uri": "https://localhost:8080/"
        },
        "id": "vgTiXoRWzrdN",
        "outputId": "519e5f07-34e0-4de1-83b3-b556e74308e9"
      },
      "execution_count": 20,
      "outputs": [
        {
          "output_type": "stream",
          "name": "stdout",
          "text": [
            "1\n"
          ]
        }
      ]
    },
    {
      "cell_type": "code",
      "source": [
        "#kích thước vector \n",
        "print(z.shape)"
      ],
      "metadata": {
        "colab": {
          "base_uri": "https://localhost:8080/"
        },
        "id": "xrxsw9qUztH3",
        "outputId": "05be3070-a025-4178-a7a8-34c2e4cbb896"
      },
      "execution_count": 21,
      "outputs": [
        {
          "output_type": "stream",
          "name": "stdout",
          "text": [
            "(4,)\n"
          ]
        }
      ]
    },
    {
      "cell_type": "markdown",
      "source": [
        "2.Các phép toán với ma trận"
      ],
      "metadata": {
        "id": "g966Ll4uzvIJ"
      }
    },
    {
      "cell_type": "markdown",
      "source": [
        "Phép cộng 2 ma trận"
      ],
      "metadata": {
        "id": "AmHkiz4FzxtZ"
      }
    },
    {
      "cell_type": "code",
      "source": [
        "X = np.array([1,2,3,4,5,6]).reshape((2,3))\n",
        "Y = np.array([6,5,4,3,2,1]).reshape((2,3))\n",
        "Z = X + Y"
      ],
      "metadata": {
        "id": "Uv6tLpKtzzfw"
      },
      "execution_count": 22,
      "outputs": []
    },
    {
      "cell_type": "code",
      "source": [
        "print(Z)"
      ],
      "metadata": {
        "colab": {
          "base_uri": "https://localhost:8080/"
        },
        "id": "mbj1ps6Qz1Hw",
        "outputId": "bf0406ec-f1ef-481a-97d6-779b7f93cc69"
      },
      "execution_count": 23,
      "outputs": [
        {
          "output_type": "stream",
          "name": "stdout",
          "text": [
            "[[7 7 7]\n",
            " [7 7 7]]\n"
          ]
        }
      ]
    },
    {
      "cell_type": "code",
      "source": [
        "#số chiều và kích thước của ma trận \n",
        "print(Z.ndim,';',Z.shape)"
      ],
      "metadata": {
        "colab": {
          "base_uri": "https://localhost:8080/"
        },
        "id": "lEYzg9V7z29U",
        "outputId": "379e70d4-879b-4ce1-f1c2-4a14750bc860"
      },
      "execution_count": 24,
      "outputs": [
        {
          "output_type": "stream",
          "name": "stdout",
          "text": [
            "2 ; (2, 3)\n"
          ]
        }
      ]
    },
    {
      "cell_type": "markdown",
      "source": [
        "Phép nhân ma trận với 1 đại lượng vô hướng"
      ],
      "metadata": {
        "id": "3_K6XHyKz6GB"
      }
    },
    {
      "cell_type": "code",
      "source": [
        "X = np.array([1,2,3,4,5,6]).reshape((2,3))\n",
        "a = 2\n",
        "Z = a*X"
      ],
      "metadata": {
        "id": "rv0NSwQvz8RN"
      },
      "execution_count": 25,
      "outputs": []
    },
    {
      "cell_type": "code",
      "source": [
        "print(Z)"
      ],
      "metadata": {
        "colab": {
          "base_uri": "https://localhost:8080/"
        },
        "id": "tapxFsTjz9__",
        "outputId": "b7d51be1-b8d0-4eb8-f48b-33f396191b79"
      },
      "execution_count": 26,
      "outputs": [
        {
          "output_type": "stream",
          "name": "stdout",
          "text": [
            "[[ 2  4  6]\n",
            " [ 8 10 12]]\n"
          ]
        }
      ]
    },
    {
      "cell_type": "code",
      "source": [
        "#số chiều và kích thước của ma trận \n",
        "print(Z.ndim,';',Z.shape)"
      ],
      "metadata": {
        "colab": {
          "base_uri": "https://localhost:8080/"
        },
        "id": "iFFOcrJrz_3I",
        "outputId": "c1766481-81ee-4b9e-a79d-05c58b17aa15"
      },
      "execution_count": 27,
      "outputs": [
        {
          "output_type": "stream",
          "name": "stdout",
          "text": [
            "2 ; (2, 3)\n"
          ]
        }
      ]
    },
    {
      "cell_type": "markdown",
      "source": [
        "Phép chuyển vị ma trận (transpose)"
      ],
      "metadata": {
        "id": "wO2TemKj0FcC"
      }
    },
    {
      "cell_type": "code",
      "source": [
        "X = np.array([1,2,3,4,5,6]).reshape((2,3))\n",
        "Z = X.T"
      ],
      "metadata": {
        "id": "RNJwqwez0HXf"
      },
      "execution_count": 28,
      "outputs": []
    },
    {
      "cell_type": "code",
      "source": [
        "print(Z)"
      ],
      "metadata": {
        "colab": {
          "base_uri": "https://localhost:8080/"
        },
        "id": "1K7j9HUF0I1t",
        "outputId": "db0a5abd-3119-4a1c-ac86-ad63f2ca985d"
      },
      "execution_count": 29,
      "outputs": [
        {
          "output_type": "stream",
          "name": "stdout",
          "text": [
            "[[1 4]\n",
            " [2 5]\n",
            " [3 6]]\n"
          ]
        }
      ]
    },
    {
      "cell_type": "code",
      "source": [
        "#số chiều và kích thước của ma trận \n",
        "print(Z.ndim,';',Z.shape)"
      ],
      "metadata": {
        "colab": {
          "base_uri": "https://localhost:8080/"
        },
        "id": "vveVvQh00KlV",
        "outputId": "a3c65491-9cf5-473a-f6f7-d925c555940f"
      },
      "execution_count": 30,
      "outputs": [
        {
          "output_type": "stream",
          "name": "stdout",
          "text": [
            "2 ; (3, 2)\n"
          ]
        }
      ]
    },
    {
      "cell_type": "markdown",
      "source": [
        "Phép nhân 2 ma trận"
      ],
      "metadata": {
        "id": "0HlMtNi50Mke"
      }
    },
    {
      "cell_type": "code",
      "source": [
        "X = np.array([1,2,3,4,5,6]).reshape((2,3))\n",
        "Y = np.array([6,5,4,3,2,1]).reshape((3,2))\n",
        "Z = np.dot(X,Y)"
      ],
      "metadata": {
        "id": "qq31Zo6K0OdS"
      },
      "execution_count": 31,
      "outputs": []
    },
    {
      "cell_type": "code",
      "source": [
        "print(Z)"
      ],
      "metadata": {
        "colab": {
          "base_uri": "https://localhost:8080/"
        },
        "id": "Rvj-0Duu0P8m",
        "outputId": "22425660-215d-459c-fdd5-24f4b311dd53"
      },
      "execution_count": 32,
      "outputs": [
        {
          "output_type": "stream",
          "name": "stdout",
          "text": [
            "[[20 14]\n",
            " [56 41]]\n"
          ]
        }
      ]
    },
    {
      "cell_type": "code",
      "source": [
        "#số chiều và kích thước của ma trận \n",
        "print(Z.ndim,';',Z.shape)"
      ],
      "metadata": {
        "colab": {
          "base_uri": "https://localhost:8080/"
        },
        "id": "VZuLjS730RtS",
        "outputId": "a123f0a7-3739-4ea5-fdfc-927c7371f806"
      },
      "execution_count": 33,
      "outputs": [
        {
          "output_type": "stream",
          "name": "stdout",
          "text": [
            "2 ; (2, 2)\n"
          ]
        }
      ]
    },
    {
      "cell_type": "markdown",
      "source": [
        "Phép nhân các phần tử có vị trí tương đương (elementwise multiplication) của 2 ma trận"
      ],
      "metadata": {
        "id": "jlioaW8o21Ag"
      }
    },
    {
      "cell_type": "code",
      "source": [
        "X = np.array([1,2,3,4,5,6]).reshape((2,3))\n",
        "Y = np.array([6,5,4,3,2,1]).reshape((2,3))\n",
        "Z = X*Y"
      ],
      "metadata": {
        "id": "HQjDqT4X0aeT"
      },
      "execution_count": 34,
      "outputs": []
    },
    {
      "cell_type": "code",
      "source": [
        "print(Z)"
      ],
      "metadata": {
        "colab": {
          "base_uri": "https://localhost:8080/"
        },
        "id": "aeLZGn580cdK",
        "outputId": "a204bab7-1524-48fe-e499-96cdcba7bb7e"
      },
      "execution_count": 35,
      "outputs": [
        {
          "output_type": "stream",
          "name": "stdout",
          "text": [
            "[[ 6 10 12]\n",
            " [12 10  6]]\n"
          ]
        }
      ]
    },
    {
      "cell_type": "code",
      "source": [
        "#số chiều và kích thước của ma trận \n",
        "print(Z.ndim,';',Z.shape)"
      ],
      "metadata": {
        "colab": {
          "base_uri": "https://localhost:8080/"
        },
        "id": "SZNB2JPz0eMa",
        "outputId": "1d5944bb-a9bd-4a68-945e-8bfdd13afce7"
      },
      "execution_count": 36,
      "outputs": [
        {
          "output_type": "stream",
          "name": "stdout",
          "text": [
            "2 ; (2, 3)\n"
          ]
        }
      ]
    },
    {
      "cell_type": "markdown",
      "source": [
        "Tạo ma trận cột dạng đặc biệt $R^{m1}$*"
      ],
      "metadata": {
        "id": "wDDzBtH50gEN"
      }
    },
    {
      "cell_type": "code",
      "source": [
        "x = np.array([1,2,3,4,5]).reshape((5,1))"
      ],
      "metadata": {
        "id": "IQ6QDQDe0hnK"
      },
      "execution_count": 37,
      "outputs": []
    },
    {
      "cell_type": "code",
      "source": [
        "print(x)"
      ],
      "metadata": {
        "colab": {
          "base_uri": "https://localhost:8080/"
        },
        "id": "5mgD9pFt0jlx",
        "outputId": "4cf0b927-2bdd-4367-82f2-7be8854a1cdb"
      },
      "execution_count": 38,
      "outputs": [
        {
          "output_type": "stream",
          "name": "stdout",
          "text": [
            "[[1]\n",
            " [2]\n",
            " [3]\n",
            " [4]\n",
            " [5]]\n"
          ]
        }
      ]
    },
    {
      "cell_type": "code",
      "source": [
        "#số chiều và kích thước của vector \n",
        "print(x.ndim,';',x.shape)"
      ],
      "metadata": {
        "colab": {
          "base_uri": "https://localhost:8080/"
        },
        "id": "CyXRi6pC0lsZ",
        "outputId": "5adbd5ba-b1f6-4dc6-b671-e198e1d38c1b"
      },
      "execution_count": 39,
      "outputs": [
        {
          "output_type": "stream",
          "name": "stdout",
          "text": [
            "2 ; (5, 1)\n"
          ]
        }
      ]
    },
    {
      "cell_type": "markdown",
      "source": [
        "Lấy ra 1 vector hàng từ ma trận X và chuyển thành ma trận đặc biệt dạng $R^{n×1}$"
      ],
      "metadata": {
        "id": "np5Dih050nbD"
      }
    },
    {
      "cell_type": "code",
      "source": [
        "X = np.array([1,2,3,4,5,6]).reshape((2,3))\n",
        "m = X.shape[0]\n",
        "n = X.shape[1]\n",
        "print('m = ', m, '; n = ', n)"
      ],
      "metadata": {
        "colab": {
          "base_uri": "https://localhost:8080/"
        },
        "id": "_je6Vis40pXe",
        "outputId": "15227237-d268-4929-8ef2-7adf676afd23"
      },
      "execution_count": 40,
      "outputs": [
        {
          "output_type": "stream",
          "name": "stdout",
          "text": [
            "m =  2 ; n =  3\n"
          ]
        }
      ]
    },
    {
      "cell_type": "code",
      "source": [
        "x = X[0, :]\n",
        "print(x)"
      ],
      "metadata": {
        "colab": {
          "base_uri": "https://localhost:8080/"
        },
        "id": "ltCykajI0rAq",
        "outputId": "72952b49-6096-4e32-b441-15a7d02cb388"
      },
      "execution_count": 41,
      "outputs": [
        {
          "output_type": "stream",
          "name": "stdout",
          "text": [
            "[1 2 3]\n"
          ]
        }
      ]
    },
    {
      "cell_type": "code",
      "source": [
        "print(x.ndim, '; ', x.shape)"
      ],
      "metadata": {
        "colab": {
          "base_uri": "https://localhost:8080/"
        },
        "id": "ShCbuETO0sgp",
        "outputId": "da3249ed-e9e9-4746-9978-73b34707aa33"
      },
      "execution_count": 42,
      "outputs": [
        {
          "output_type": "stream",
          "name": "stdout",
          "text": [
            "1 ;  (3,)\n"
          ]
        }
      ]
    },
    {
      "cell_type": "code",
      "source": [
        "x = x.reshape((1,n))\n",
        "print(x)"
      ],
      "metadata": {
        "colab": {
          "base_uri": "https://localhost:8080/"
        },
        "id": "jPuIP_9P0uHC",
        "outputId": "055262b2-56af-47da-dfdf-c41801fccf66"
      },
      "execution_count": 43,
      "outputs": [
        {
          "output_type": "stream",
          "name": "stdout",
          "text": [
            "[[1 2 3]]\n"
          ]
        }
      ]
    },
    {
      "cell_type": "code",
      "source": [
        "print(x.ndim, '; ', x.shape)"
      ],
      "metadata": {
        "colab": {
          "base_uri": "https://localhost:8080/"
        },
        "id": "NofFFk7r0vv2",
        "outputId": "587cdb09-62bd-4c3a-a903-79743acc9b91"
      },
      "execution_count": 44,
      "outputs": [
        {
          "output_type": "stream",
          "name": "stdout",
          "text": [
            "2 ;  (1, 3)\n"
          ]
        }
      ]
    },
    {
      "cell_type": "markdown",
      "source": [
        "Lấy ra 1 vector cột từ ma trận X và chuyển thành ma trận đặc biệt dạng $R^{m×1}$"
      ],
      "metadata": {
        "id": "kr6eim700yb5"
      }
    },
    {
      "cell_type": "code",
      "source": [
        "X = np.array([1,2,3,4,5,6]).reshape((2,3))\n",
        "m = X.shape[0]\n",
        "n = X.shape[1]\n",
        "print('m = ', m, '; n = ', n)"
      ],
      "metadata": {
        "colab": {
          "base_uri": "https://localhost:8080/"
        },
        "id": "T_y7hCfz1Q1Z",
        "outputId": "e64682dc-b7eb-4303-f03d-ab6b18e345eb"
      },
      "execution_count": 45,
      "outputs": [
        {
          "output_type": "stream",
          "name": "stdout",
          "text": [
            "m =  2 ; n =  3\n"
          ]
        }
      ]
    },
    {
      "cell_type": "code",
      "source": [
        "x = X[:,1]\n",
        "print(x)"
      ],
      "metadata": {
        "colab": {
          "base_uri": "https://localhost:8080/"
        },
        "id": "WntwanAC1Wd0",
        "outputId": "ed538d41-f76a-44c2-8ae3-64b376fb193b"
      },
      "execution_count": 46,
      "outputs": [
        {
          "output_type": "stream",
          "name": "stdout",
          "text": [
            "[2 5]\n"
          ]
        }
      ]
    },
    {
      "cell_type": "code",
      "source": [
        "print(x.ndim, '; ', x.shape)"
      ],
      "metadata": {
        "colab": {
          "base_uri": "https://localhost:8080/"
        },
        "id": "YAdVzm6d1Yvi",
        "outputId": "6c4b70f6-649f-4652-b9c5-09878aa16e2e"
      },
      "execution_count": 47,
      "outputs": [
        {
          "output_type": "stream",
          "name": "stdout",
          "text": [
            "1 ;  (2,)\n"
          ]
        }
      ]
    },
    {
      "cell_type": "code",
      "source": [
        "x = x.reshape((m,1))\n",
        "print(x)"
      ],
      "metadata": {
        "colab": {
          "base_uri": "https://localhost:8080/"
        },
        "id": "xa20Km9k1aRS",
        "outputId": "cf7773a9-e8bb-4f63-c5bd-07e10ab8b1d9"
      },
      "execution_count": 48,
      "outputs": [
        {
          "output_type": "stream",
          "name": "stdout",
          "text": [
            "[[2]\n",
            " [5]]\n"
          ]
        }
      ]
    },
    {
      "cell_type": "code",
      "source": [
        "print(x.ndim, '; ', x.shape)"
      ],
      "metadata": {
        "colab": {
          "base_uri": "https://localhost:8080/"
        },
        "id": "8a6V1YsN1b9L",
        "outputId": "e3428b6a-4d54-4734-e246-e0eef9836ba0"
      },
      "execution_count": 49,
      "outputs": [
        {
          "output_type": "stream",
          "name": "stdout",
          "text": [
            "2 ;  (2, 1)\n"
          ]
        }
      ]
    },
    {
      "cell_type": "markdown",
      "source": [
        "Xếp thêm 1 vector cột vào đầu ma trận : x ∈ $R^m$ hay x ∈ $R^{m×1}$, X ∈ $R^{m×n}$,\n",
        "X = [x,X]"
      ],
      "metadata": {
        "id": "1i75eJ8z16uI"
      }
    },
    {
      "cell_type": "code",
      "source": [
        "X=np.array([1,2,3,4,5,6,7,8,9,10,11,12]).reshape((4,3))\n",
        "x = np.array([1,1,1,1]).reshape((4,1))\n",
        "X = np.column_stack([x,X])\n",
        "print(X)\n",
        "#số chiều và kích thước của ma trận\n",
        "print(X.ndim, '; ', X.shape)"
      ],
      "metadata": {
        "colab": {
          "base_uri": "https://localhost:8080/"
        },
        "id": "QxFRpqIU1-Mo",
        "outputId": "15531f27-ad09-4188-943b-0cb6780920dc"
      },
      "execution_count": 50,
      "outputs": [
        {
          "output_type": "stream",
          "name": "stdout",
          "text": [
            "[[ 1  1  2  3]\n",
            " [ 1  4  5  6]\n",
            " [ 1  7  8  9]\n",
            " [ 1 10 11 12]]\n",
            "2 ;  (4, 4)\n"
          ]
        }
      ]
    },
    {
      "cell_type": "markdown",
      "source": [
        "Tách 1 ma trận data ban đầu gồm n cột thành 1 ma trận con X chứa cácn-1 cột đầu tiên và 1 vector cột y lấy ra từ cột cuối cùng của data"
      ],
      "metadata": {
        "id": "y_SrIcML2Ad5"
      }
    },
    {
      "cell_type": "code",
      "source": [
        "data = np.array([[10,22,13,1],\n",
        "[9,6,5,0],\n",
        "[8,12,4,1],\n",
        "[6,5,7,0]])\n",
        "X = data[:,:-1]\n",
        "y = data[:,-1].reshape((data.shape[0], 1))\n",
        "print(X)\n",
        "print(X.ndim, '; ', X.shape)"
      ],
      "metadata": {
        "colab": {
          "base_uri": "https://localhost:8080/"
        },
        "id": "HsMRvR-E2CKr",
        "outputId": "86c993e0-6365-463c-f556-505c9b30f37c"
      },
      "execution_count": 51,
      "outputs": [
        {
          "output_type": "stream",
          "name": "stdout",
          "text": [
            "[[10 22 13]\n",
            " [ 9  6  5]\n",
            " [ 8 12  4]\n",
            " [ 6  5  7]]\n",
            "2 ;  (4, 3)\n"
          ]
        }
      ]
    },
    {
      "cell_type": "code",
      "source": [
        "print(y)\n",
        "print(y.ndim, '; ', y.shape)"
      ],
      "metadata": {
        "colab": {
          "base_uri": "https://localhost:8080/"
        },
        "id": "pfXbSm1l2EFk",
        "outputId": "57c48402-dbec-4d9c-b3b2-4c24a871bd21"
      },
      "execution_count": 52,
      "outputs": [
        {
          "output_type": "stream",
          "name": "stdout",
          "text": [
            "[[1]\n",
            " [0]\n",
            " [1]\n",
            " [0]]\n",
            "2 ;  (4, 1)\n"
          ]
        }
      ]
    },
    {
      "cell_type": "markdown",
      "source": [
        "3. Các phép toán với tensor hạng cao (≥\n",
        "3)"
      ],
      "metadata": {
        "id": "UKZfnnZl2G03"
      }
    },
    {
      "cell_type": "markdown",
      "source": [
        "Tạo 1 tensor T ∈ $R^{m×n×k}$ với m = 2, n= 2 và k = 3, các giá trị được sinh ngẫu nhiên. "
      ],
      "metadata": {
        "id": "FRWq0YNE2KY1"
      }
    },
    {
      "cell_type": "code",
      "source": [
        "import numpy as np\n",
        "m=2\n",
        "n=2\n",
        "k=3\n",
        "T = np.random.randint(low=0,high=5,size=m*n*k).reshape(m,n,k)\n",
        "print(T)"
      ],
      "metadata": {
        "colab": {
          "base_uri": "https://localhost:8080/"
        },
        "id": "2uWbd9wR2My5",
        "outputId": "6fe6b5a5-5686-4d86-e806-ba762bfb14e2"
      },
      "execution_count": 53,
      "outputs": [
        {
          "output_type": "stream",
          "name": "stdout",
          "text": [
            "[[[2 1 1]\n",
            "  [1 0 0]]\n",
            "\n",
            " [[1 4 4]\n",
            "  [2 1 3]]]\n"
          ]
        }
      ]
    },
    {
      "cell_type": "code",
      "source": [
        "print(T.shape)"
      ],
      "metadata": {
        "colab": {
          "base_uri": "https://localhost:8080/"
        },
        "id": "Ek1Yw4kz2Oic",
        "outputId": "118411f9-2b95-4841-8e34-1599b4da4f76"
      },
      "execution_count": 54,
      "outputs": [
        {
          "output_type": "stream",
          "name": "stdout",
          "text": [
            "(2, 2, 3)\n"
          ]
        }
      ]
    },
    {
      "cell_type": "markdown",
      "source": [
        "Tạo 1 tensor T2 ∈ $R^{m×n×k×q}$ chứa 2 tensor t1,t2 ∈ $R^{m×n×k}$, biết t1 và t2 được sinh ngẫu nhiên"
      ],
      "metadata": {
        "id": "RolY6QJv2RBF"
      }
    },
    {
      "cell_type": "code",
      "source": [
        "import numpy as np\n",
        "m=2\n",
        "n=2\n",
        "k=3\n",
        "t1 = np.random.randint(low=0,high=5,size=m*n*k).reshape(m,n,k)\n",
        "t2 = np.random.randint(low=0,high=5,size=m*n*k).reshape(m,n,k)\n",
        "T2 = np.stack((t1, t2), axis=0)\n",
        "print(T2)"
      ],
      "metadata": {
        "colab": {
          "base_uri": "https://localhost:8080/"
        },
        "id": "JvX8Y0VH2TfH",
        "outputId": "566ca100-70c5-42aa-c47d-7574e734a43e"
      },
      "execution_count": 55,
      "outputs": [
        {
          "output_type": "stream",
          "name": "stdout",
          "text": [
            "[[[[0 4 1]\n",
            "   [2 2 1]]\n",
            "\n",
            "  [[4 4 0]\n",
            "   [3 4 1]]]\n",
            "\n",
            "\n",
            " [[[1 1 4]\n",
            "   [4 1 1]]\n",
            "\n",
            "  [[4 3 1]\n",
            "   [2 1 0]]]]\n"
          ]
        }
      ]
    },
    {
      "cell_type": "code",
      "source": [
        "print(T2.shape)"
      ],
      "metadata": {
        "colab": {
          "base_uri": "https://localhost:8080/"
        },
        "id": "MNml9p-O2VpV",
        "outputId": "cc0e1839-5666-4ad4-c8fd-97460f96e5c6"
      },
      "execution_count": 56,
      "outputs": [
        {
          "output_type": "stream",
          "name": "stdout",
          "text": [
            "(2, 2, 2, 3)\n"
          ]
        }
      ]
    }
  ]
}