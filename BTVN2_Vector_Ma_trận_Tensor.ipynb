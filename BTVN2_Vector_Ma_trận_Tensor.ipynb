{
  "nbformat": 4,
  "nbformat_minor": 0,
  "metadata": {
    "colab": {
      "provenance": [],
      "include_colab_link": true
    },
    "kernelspec": {
      "name": "python3",
      "display_name": "Python 3"
    },
    "language_info": {
      "name": "python"
    }
  },
  "cells": [
    {
      "cell_type": "markdown",
      "metadata": {
        "id": "view-in-github",
        "colab_type": "text"
      },
      "source": [
        "<a href=\"https://colab.research.google.com/github/Tiberu2611/Machine-Learning/blob/main/BTVN2_Vector_Ma_tr%E1%BA%ADn_Tensor.ipynb\" target=\"_parent\"><img src=\"https://colab.research.google.com/assets/colab-badge.svg\" alt=\"Open In Colab\"/></a>"
      ]
    },
    {
      "cell_type": "markdown",
      "source": [
        "BÀI ÔN TẬP KIẾN THỨC TOÁN VÀ LẬP TRÌNH"
      ],
      "metadata": {
        "id": "8rIqMQxDygGs"
      }
    },
    {
      "cell_type": "markdown",
      "source": [
        "1.Các phép toán với vector"
      ],
      "metadata": {
        "id": "uHAwpmmIyhuW"
      }
    },
    {
      "cell_type": "code",
      "source": [
        "import numpy as np"
      ],
      "metadata": {
        "id": "1_4x5EiNyuRK"
      },
      "execution_count": null,
      "outputs": []
    },
    {
      "cell_type": "markdown",
      "source": [
        "Cộng 2 vector"
      ],
      "metadata": {
        "id": "Tbpy0vzxyyLA"
      }
    },
    {
      "cell_type": "code",
      "source": [
        "x = np.array([1,2,3,4])\n",
        "y = np.array([5,3,2,1])\n",
        "z = x+y"
      ],
      "metadata": {
        "id": "HwIacdjcy0do"
      },
      "execution_count": null,
      "outputs": []
    },
    {
      "cell_type": "code",
      "source": [
        "print(z)"
      ],
      "metadata": {
        "colab": {
          "base_uri": "https://localhost:8080/"
        },
        "id": "JwueFJOty3KV",
        "outputId": "83797fa7-8b26-41e7-c457-88e188ba00c4"
      },
      "execution_count": null,
      "outputs": [
        {
          "output_type": "stream",
          "name": "stdout",
          "text": [
            "[6 5 5 5]\n"
          ]
        }
      ]
    },
    {
      "cell_type": "code",
      "source": [
        "#kích thước vector \n",
        "print(z.ndim)"
      ],
      "metadata": {
        "colab": {
          "base_uri": "https://localhost:8080/"
        },
        "id": "9yHMw_Ddy6h2",
        "outputId": "d2b4067d-fb43-4392-ef52-3d3cea5f783b"
      },
      "execution_count": null,
      "outputs": [
        {
          "output_type": "stream",
          "name": "stdout",
          "text": [
            "1\n"
          ]
        }
      ]
    },
    {
      "cell_type": "code",
      "source": [
        "#số chiều của vector\n",
        "print(z.shape)"
      ],
      "metadata": {
        "colab": {
          "base_uri": "https://localhost:8080/"
        },
        "id": "bLt20aV7y86m",
        "outputId": "60049d80-6f7a-4aac-f426-1ba7b3cf8f58"
      },
      "execution_count": null,
      "outputs": [
        {
          "output_type": "stream",
          "name": "stdout",
          "text": [
            "(4,)\n"
          ]
        }
      ]
    },
    {
      "cell_type": "markdown",
      "source": [
        "Phép nhân đại lượng vô hướng với vector trong Python"
      ],
      "metadata": {
        "id": "2wwhmbK3y_JG"
      }
    },
    {
      "cell_type": "code",
      "source": [
        "x = np.array([1, 2, 3, 4])\n",
        "a = 15\n",
        "z = a*x"
      ],
      "metadata": {
        "id": "AX_e9lVszCAO"
      },
      "execution_count": null,
      "outputs": []
    },
    {
      "cell_type": "code",
      "source": [
        "print(z)"
      ],
      "metadata": {
        "colab": {
          "base_uri": "https://localhost:8080/"
        },
        "id": "es2qXe5-zEGO",
        "outputId": "a1740153-8238-4eb2-c9de-424bd77fec57"
      },
      "execution_count": null,
      "outputs": [
        {
          "output_type": "stream",
          "name": "stdout",
          "text": [
            "[15 30 45 60]\n"
          ]
        }
      ]
    },
    {
      "cell_type": "code",
      "source": [
        "#số chiều của vector\n",
        "print(z.ndim)"
      ],
      "metadata": {
        "colab": {
          "base_uri": "https://localhost:8080/"
        },
        "id": "THhRSZL1zGu6",
        "outputId": "d83f33c6-b600-4517-f9b8-35307cec950e"
      },
      "execution_count": null,
      "outputs": [
        {
          "output_type": "stream",
          "name": "stdout",
          "text": [
            "1\n"
          ]
        }
      ]
    },
    {
      "cell_type": "code",
      "source": [
        "#kích thước vector \n",
        "print(z.shape)"
      ],
      "metadata": {
        "colab": {
          "base_uri": "https://localhost:8080/"
        },
        "id": "NMMZ5ltEzJBH",
        "outputId": "0228103c-c440-4ef2-c2d3-17014cf6d0ac"
      },
      "execution_count": null,
      "outputs": [
        {
          "output_type": "stream",
          "name": "stdout",
          "text": [
            "(4,)\n"
          ]
        }
      ]
    },
    {
      "cell_type": "markdown",
      "source": [
        "Tích vô hướng của 2 vector"
      ],
      "metadata": {
        "id": "FS23HlvDzM6Q"
      }
    },
    {
      "cell_type": "code",
      "source": [
        "x = np.array([1, 2, 3, 4])\n",
        "y = np.array([5, 3, 2, 1])\n",
        "z = np.dot(x,y)"
      ],
      "metadata": {
        "id": "cfwuIZsOzPFH"
      },
      "execution_count": null,
      "outputs": []
    },
    {
      "cell_type": "code",
      "source": [
        "print(z)"
      ],
      "metadata": {
        "colab": {
          "base_uri": "https://localhost:8080/"
        },
        "id": "CzD3na4pzQzI",
        "outputId": "721bcde6-c738-40d7-9b70-704c4f772227"
      },
      "execution_count": null,
      "outputs": [
        {
          "output_type": "stream",
          "name": "stdout",
          "text": [
            "21\n"
          ]
        }
      ]
    },
    {
      "cell_type": "code",
      "source": [
        "#số chiều của vector\n",
        "print(z.ndim)"
      ],
      "metadata": {
        "colab": {
          "base_uri": "https://localhost:8080/"
        },
        "id": "6PTZUQ6OzTWP",
        "outputId": "bde3bbcd-1bfa-4f7a-b0e6-066d0a4fd43e"
      },
      "execution_count": null,
      "outputs": [
        {
          "output_type": "stream",
          "name": "stdout",
          "text": [
            "0\n"
          ]
        }
      ]
    },
    {
      "cell_type": "code",
      "source": [
        "#kích thước vector \n",
        "print(z.shape)"
      ],
      "metadata": {
        "colab": {
          "base_uri": "https://localhost:8080/"
        },
        "id": "YZBoG0-QzVbD",
        "outputId": "e36974a6-6b58-4d3f-cab2-23f19523113f"
      },
      "execution_count": null,
      "outputs": [
        {
          "output_type": "stream",
          "name": "stdout",
          "text": [
            "()\n"
          ]
        }
      ]
    },
    {
      "cell_type": "markdown",
      "source": [
        "Tích hữu hướng của 2 vector"
      ],
      "metadata": {
        "id": "3dxTfWTszXZ4"
      }
    },
    {
      "cell_type": "code",
      "source": [
        "x = np.array([1,2,3])\n",
        "y = np.array([3,2,1])\n",
        "z = np.cross(x, y)"
      ],
      "metadata": {
        "id": "SBlHmX3XzX7y"
      },
      "execution_count": null,
      "outputs": []
    },
    {
      "cell_type": "code",
      "source": [
        "print(z)"
      ],
      "metadata": {
        "colab": {
          "base_uri": "https://localhost:8080/"
        },
        "id": "-pkJ2O0lzccb",
        "outputId": "5d381971-5143-4358-b8ef-fd962496d3b9"
      },
      "execution_count": null,
      "outputs": [
        {
          "output_type": "stream",
          "name": "stdout",
          "text": [
            "[-4  8 -4]\n"
          ]
        }
      ]
    },
    {
      "cell_type": "code",
      "source": [
        "#số chiều của vector\n",
        "print(z.ndim)"
      ],
      "metadata": {
        "colab": {
          "base_uri": "https://localhost:8080/"
        },
        "id": "aZMZ9yLxzei0",
        "outputId": "46b238e1-189a-4b2f-99f8-53fae838b705"
      },
      "execution_count": null,
      "outputs": [
        {
          "output_type": "stream",
          "name": "stdout",
          "text": [
            "1\n"
          ]
        }
      ]
    },
    {
      "cell_type": "code",
      "source": [
        "#kích thước vector \n",
        "print(z.shape)"
      ],
      "metadata": {
        "colab": {
          "base_uri": "https://localhost:8080/"
        },
        "id": "EnhO6fIUzilD",
        "outputId": "6ffa6090-5c90-44d6-822c-bdd7ad0e7d58"
      },
      "execution_count": null,
      "outputs": [
        {
          "output_type": "stream",
          "name": "stdout",
          "text": [
            "(3,)\n"
          ]
        }
      ]
    },
    {
      "cell_type": "markdown",
      "source": [
        "Phép nhân các phần tử có vị trí tương ứng (elementwise multiplication) 2 vector"
      ],
      "metadata": {
        "id": "G396Fghwzlpg"
      }
    },
    {
      "cell_type": "code",
      "source": [
        "x = np.array([1,2,3,4])\n",
        "y = np.array([5,3,2,1])\n",
        "z = np.multiply(x,y)"
      ],
      "metadata": {
        "id": "QYB8sxftzmVI"
      },
      "execution_count": null,
      "outputs": []
    },
    {
      "cell_type": "code",
      "source": [
        "print(z)"
      ],
      "metadata": {
        "colab": {
          "base_uri": "https://localhost:8080/"
        },
        "id": "0SoXqVVMzpvU",
        "outputId": "bf336217-151c-4477-9b0d-d547b3931539"
      },
      "execution_count": null,
      "outputs": [
        {
          "output_type": "stream",
          "name": "stdout",
          "text": [
            "[5 6 6 4]\n"
          ]
        }
      ]
    },
    {
      "cell_type": "code",
      "source": [
        "#số chiều của vector\n",
        "print(z.ndim)"
      ],
      "metadata": {
        "colab": {
          "base_uri": "https://localhost:8080/"
        },
        "id": "vgTiXoRWzrdN",
        "outputId": "34fdb4a8-794d-4a91-83fd-30896cfcdaaf"
      },
      "execution_count": null,
      "outputs": [
        {
          "output_type": "stream",
          "name": "stdout",
          "text": [
            "1\n"
          ]
        }
      ]
    },
    {
      "cell_type": "code",
      "source": [
        "#kích thước vector \n",
        "print(z.shape)"
      ],
      "metadata": {
        "colab": {
          "base_uri": "https://localhost:8080/"
        },
        "id": "xrxsw9qUztH3",
        "outputId": "580be85e-932c-466a-e5a9-1ab1d6867e46"
      },
      "execution_count": null,
      "outputs": [
        {
          "output_type": "stream",
          "name": "stdout",
          "text": [
            "(4,)\n"
          ]
        }
      ]
    },
    {
      "cell_type": "markdown",
      "source": [
        "2.Các phép toán với ma trận"
      ],
      "metadata": {
        "id": "g966Ll4uzvIJ"
      }
    },
    {
      "cell_type": "markdown",
      "source": [
        "Phép cộng 2 ma trận"
      ],
      "metadata": {
        "id": "AmHkiz4FzxtZ"
      }
    },
    {
      "cell_type": "code",
      "source": [
        "X = np.array([1,2,3,4,5,6]).reshape((2,3))\n",
        "Y = np.array([6,5,4,3,2,1]).reshape((2,3))\n",
        "Z = X + Y"
      ],
      "metadata": {
        "id": "Uv6tLpKtzzfw"
      },
      "execution_count": null,
      "outputs": []
    },
    {
      "cell_type": "code",
      "source": [
        "print(Z)"
      ],
      "metadata": {
        "colab": {
          "base_uri": "https://localhost:8080/"
        },
        "id": "mbj1ps6Qz1Hw",
        "outputId": "f629ad79-a835-4a3d-cc0d-2ed76e2b8aea"
      },
      "execution_count": null,
      "outputs": [
        {
          "output_type": "stream",
          "name": "stdout",
          "text": [
            "[[7 7 7]\n",
            " [7 7 7]]\n"
          ]
        }
      ]
    },
    {
      "cell_type": "code",
      "source": [
        "#số chiều và kích thước của ma trận \n",
        "print(Z.ndim,';',Z.shape)"
      ],
      "metadata": {
        "colab": {
          "base_uri": "https://localhost:8080/"
        },
        "id": "lEYzg9V7z29U",
        "outputId": "3a28589d-ce62-49bf-b870-10f6a67a277c"
      },
      "execution_count": null,
      "outputs": [
        {
          "output_type": "stream",
          "name": "stdout",
          "text": [
            "2 ; (2, 3)\n"
          ]
        }
      ]
    },
    {
      "cell_type": "markdown",
      "source": [
        "Phép nhân ma trận với 1 đại lượng vô hướng"
      ],
      "metadata": {
        "id": "3_K6XHyKz6GB"
      }
    },
    {
      "cell_type": "code",
      "source": [
        "X = np.array([1,2,3,4,5,6]).reshape((2,3))\n",
        "a = 2\n",
        "Z = a*X"
      ],
      "metadata": {
        "id": "rv0NSwQvz8RN"
      },
      "execution_count": null,
      "outputs": []
    },
    {
      "cell_type": "code",
      "source": [
        "print(Z)"
      ],
      "metadata": {
        "colab": {
          "base_uri": "https://localhost:8080/"
        },
        "id": "tapxFsTjz9__",
        "outputId": "afdc17d3-508b-44f4-bb40-2aa642e0802c"
      },
      "execution_count": null,
      "outputs": [
        {
          "output_type": "stream",
          "name": "stdout",
          "text": [
            "[[ 2  4  6]\n",
            " [ 8 10 12]]\n"
          ]
        }
      ]
    },
    {
      "cell_type": "code",
      "source": [
        "#số chiều và kích thước của ma trận \n",
        "print(Z.ndim,';',Z.shape)"
      ],
      "metadata": {
        "colab": {
          "base_uri": "https://localhost:8080/"
        },
        "id": "iFFOcrJrz_3I",
        "outputId": "39557c05-9b97-4331-cb6d-9aa30e64214d"
      },
      "execution_count": null,
      "outputs": [
        {
          "output_type": "stream",
          "name": "stdout",
          "text": [
            "2 ; (2, 3)\n"
          ]
        }
      ]
    },
    {
      "cell_type": "markdown",
      "source": [
        "Phép chuyển vị ma trận (transpose)"
      ],
      "metadata": {
        "id": "wO2TemKj0FcC"
      }
    },
    {
      "cell_type": "code",
      "source": [
        "X = np.array([1,2,3,4,5,6]).reshape((2,3))\n",
        "Z = X.T"
      ],
      "metadata": {
        "id": "RNJwqwez0HXf"
      },
      "execution_count": null,
      "outputs": []
    },
    {
      "cell_type": "code",
      "source": [
        "print(Z)"
      ],
      "metadata": {
        "colab": {
          "base_uri": "https://localhost:8080/"
        },
        "id": "1K7j9HUF0I1t",
        "outputId": "972c16f5-ce53-47d8-c1bb-dfd4309fc038"
      },
      "execution_count": null,
      "outputs": [
        {
          "output_type": "stream",
          "name": "stdout",
          "text": [
            "[[1 4]\n",
            " [2 5]\n",
            " [3 6]]\n"
          ]
        }
      ]
    },
    {
      "cell_type": "code",
      "source": [
        "#số chiều và kích thước của ma trận \n",
        "print(Z.ndim,';',Z.shape)"
      ],
      "metadata": {
        "colab": {
          "base_uri": "https://localhost:8080/"
        },
        "id": "vveVvQh00KlV",
        "outputId": "263d53d7-fc4f-4910-8614-9cd59e68515b"
      },
      "execution_count": null,
      "outputs": [
        {
          "output_type": "stream",
          "name": "stdout",
          "text": [
            "2 ; (3, 2)\n"
          ]
        }
      ]
    },
    {
      "cell_type": "markdown",
      "source": [
        "Phép nhân 2 ma trận"
      ],
      "metadata": {
        "id": "0HlMtNi50Mke"
      }
    },
    {
      "cell_type": "code",
      "source": [
        "X = np.array([1,2,3,4,5,6]).reshape((2,3))\n",
        "Y = np.array([6,5,4,3,2,1]).reshape((3,2))\n",
        "Z = np.dot(X,Y)"
      ],
      "metadata": {
        "id": "qq31Zo6K0OdS"
      },
      "execution_count": null,
      "outputs": []
    },
    {
      "cell_type": "code",
      "source": [
        "print(Z)"
      ],
      "metadata": {
        "colab": {
          "base_uri": "https://localhost:8080/"
        },
        "id": "Rvj-0Duu0P8m",
        "outputId": "76c0d769-82f1-4d07-ef40-033e0c454469"
      },
      "execution_count": null,
      "outputs": [
        {
          "output_type": "stream",
          "name": "stdout",
          "text": [
            "[[20 14]\n",
            " [56 41]]\n"
          ]
        }
      ]
    },
    {
      "cell_type": "code",
      "source": [
        "#số chiều và kích thước của ma trận \n",
        "print(Z.ndim,';',Z.shape)"
      ],
      "metadata": {
        "colab": {
          "base_uri": "https://localhost:8080/"
        },
        "id": "VZuLjS730RtS",
        "outputId": "6fa68e85-325b-429a-94ab-9ad0a880ebb8"
      },
      "execution_count": null,
      "outputs": [
        {
          "output_type": "stream",
          "name": "stdout",
          "text": [
            "2 ; (2, 2)\n"
          ]
        }
      ]
    },
    {
      "cell_type": "markdown",
      "source": [
        "Phép nhân các phần tử có vị trí tương đương (elementwise multiplication) của 2 ma trận"
      ],
      "metadata": {
        "id": "jlioaW8o21Ag"
      }
    },
    {
      "cell_type": "code",
      "source": [
        "X = np.array([1,2,3,4,5,6]).reshape((2,3))\n",
        "Y = np.array([6,5,4,3,2,1]).reshape((2,3))\n",
        "Z = X*Y"
      ],
      "metadata": {
        "id": "HQjDqT4X0aeT"
      },
      "execution_count": null,
      "outputs": []
    },
    {
      "cell_type": "code",
      "source": [
        "print(Z)"
      ],
      "metadata": {
        "colab": {
          "base_uri": "https://localhost:8080/"
        },
        "id": "aeLZGn580cdK",
        "outputId": "e92f0e25-ca1c-4137-cd32-18c1ebb1bfd3"
      },
      "execution_count": null,
      "outputs": [
        {
          "output_type": "stream",
          "name": "stdout",
          "text": [
            "[[ 6 10 12]\n",
            " [12 10  6]]\n"
          ]
        }
      ]
    },
    {
      "cell_type": "code",
      "source": [
        "#số chiều và kích thước của ma trận \n",
        "print(Z.ndim,';',Z.shape)"
      ],
      "metadata": {
        "colab": {
          "base_uri": "https://localhost:8080/"
        },
        "id": "SZNB2JPz0eMa",
        "outputId": "34bbfd19-2b4f-4c9c-a86c-220a74372c96"
      },
      "execution_count": null,
      "outputs": [
        {
          "output_type": "stream",
          "name": "stdout",
          "text": [
            "2 ; (2, 3)\n"
          ]
        }
      ]
    },
    {
      "cell_type": "markdown",
      "source": [
        "Tạo ma trận cột dạng đặc biệt $R^{m1}$*"
      ],
      "metadata": {
        "id": "wDDzBtH50gEN"
      }
    },
    {
      "cell_type": "code",
      "source": [
        "x = np.array([1,2,3,4,5]).reshape((5,1))"
      ],
      "metadata": {
        "id": "IQ6QDQDe0hnK"
      },
      "execution_count": null,
      "outputs": []
    },
    {
      "cell_type": "code",
      "source": [
        "print(x)"
      ],
      "metadata": {
        "colab": {
          "base_uri": "https://localhost:8080/"
        },
        "id": "5mgD9pFt0jlx",
        "outputId": "225843db-719f-4074-e785-1eb33803923f"
      },
      "execution_count": null,
      "outputs": [
        {
          "output_type": "stream",
          "name": "stdout",
          "text": [
            "[[1]\n",
            " [2]\n",
            " [3]\n",
            " [4]\n",
            " [5]]\n"
          ]
        }
      ]
    },
    {
      "cell_type": "code",
      "source": [
        "#số chiều và kích thước của vector \n",
        "print(x.ndim,';',x.shape)"
      ],
      "metadata": {
        "colab": {
          "base_uri": "https://localhost:8080/"
        },
        "id": "CyXRi6pC0lsZ",
        "outputId": "451292c5-943a-4e9f-95f6-99a267a8158e"
      },
      "execution_count": null,
      "outputs": [
        {
          "output_type": "stream",
          "name": "stdout",
          "text": [
            "2 ; (5, 1)\n"
          ]
        }
      ]
    },
    {
      "cell_type": "markdown",
      "source": [
        "Lấy ra 1 vector hàng từ ma trận X và chuyển thành ma trận đặc biệt dạng $R^{n×1}$"
      ],
      "metadata": {
        "id": "np5Dih050nbD"
      }
    },
    {
      "cell_type": "code",
      "source": [
        "X = np.array([1,2,3,4,5,6]).reshape((2,3))\n",
        "m = X.shape[0]\n",
        "n = X.shape[1]\n",
        "print('m = ', m, '; n = ', n)"
      ],
      "metadata": {
        "colab": {
          "base_uri": "https://localhost:8080/"
        },
        "id": "_je6Vis40pXe",
        "outputId": "fd5f05a0-5650-442d-c604-edf3fedd8b9f"
      },
      "execution_count": null,
      "outputs": [
        {
          "output_type": "stream",
          "name": "stdout",
          "text": [
            "m =  2 ; n =  3\n"
          ]
        }
      ]
    },
    {
      "cell_type": "code",
      "source": [
        "x = X[0, :]\n",
        "print(x)"
      ],
      "metadata": {
        "colab": {
          "base_uri": "https://localhost:8080/"
        },
        "id": "ltCykajI0rAq",
        "outputId": "df72f78a-362f-4812-ea91-3d3481594b43"
      },
      "execution_count": null,
      "outputs": [
        {
          "output_type": "stream",
          "name": "stdout",
          "text": [
            "[1 2 3]\n"
          ]
        }
      ]
    },
    {
      "cell_type": "code",
      "source": [
        "print(x.ndim, '; ', x.shape)"
      ],
      "metadata": {
        "colab": {
          "base_uri": "https://localhost:8080/"
        },
        "id": "ShCbuETO0sgp",
        "outputId": "0880e5e2-aa22-426d-b4b3-f9af39130d44"
      },
      "execution_count": null,
      "outputs": [
        {
          "output_type": "stream",
          "name": "stdout",
          "text": [
            "1 ;  (3,)\n"
          ]
        }
      ]
    },
    {
      "cell_type": "code",
      "source": [
        "x = x.reshape((1,n))\n",
        "print(x)"
      ],
      "metadata": {
        "colab": {
          "base_uri": "https://localhost:8080/"
        },
        "id": "jPuIP_9P0uHC",
        "outputId": "92f70e76-44a4-416d-e6e7-ff784564d7e9"
      },
      "execution_count": null,
      "outputs": [
        {
          "output_type": "stream",
          "name": "stdout",
          "text": [
            "[[1 2 3]]\n"
          ]
        }
      ]
    },
    {
      "cell_type": "code",
      "source": [
        "print(x.ndim, '; ', x.shape)"
      ],
      "metadata": {
        "colab": {
          "base_uri": "https://localhost:8080/"
        },
        "id": "NofFFk7r0vv2",
        "outputId": "03585a2c-b42f-4224-fbf9-85841a20ee6e"
      },
      "execution_count": null,
      "outputs": [
        {
          "output_type": "stream",
          "name": "stdout",
          "text": [
            "2 ;  (1, 3)\n"
          ]
        }
      ]
    },
    {
      "cell_type": "markdown",
      "source": [
        "Lấy ra 1 vector cột từ ma trận X và chuyển thành ma trận đặc biệt dạng $R^{m×1}$"
      ],
      "metadata": {
        "id": "kr6eim700yb5"
      }
    },
    {
      "cell_type": "code",
      "source": [
        "X = np.array([1,2,3,4,5,6]).reshape((2,3))\n",
        "m = X.shape[0]\n",
        "n = X.shape[1]\n",
        "print('m = ', m, '; n = ', n)"
      ],
      "metadata": {
        "colab": {
          "base_uri": "https://localhost:8080/"
        },
        "id": "T_y7hCfz1Q1Z",
        "outputId": "3ad8c5c1-769b-4564-812c-ca02c274667a"
      },
      "execution_count": null,
      "outputs": [
        {
          "output_type": "stream",
          "name": "stdout",
          "text": [
            "m =  2 ; n =  3\n"
          ]
        }
      ]
    },
    {
      "cell_type": "code",
      "source": [
        "x = X[:,1]\n",
        "print(x)"
      ],
      "metadata": {
        "colab": {
          "base_uri": "https://localhost:8080/"
        },
        "id": "WntwanAC1Wd0",
        "outputId": "98f79f24-caa1-4a74-a6e0-9251eb50d15b"
      },
      "execution_count": null,
      "outputs": [
        {
          "output_type": "stream",
          "name": "stdout",
          "text": [
            "[2 5]\n"
          ]
        }
      ]
    },
    {
      "cell_type": "code",
      "source": [
        "print(x.ndim, '; ', x.shape)"
      ],
      "metadata": {
        "colab": {
          "base_uri": "https://localhost:8080/"
        },
        "id": "YAdVzm6d1Yvi",
        "outputId": "8258cfe1-f266-45f7-cf1a-ff2967e4284d"
      },
      "execution_count": null,
      "outputs": [
        {
          "output_type": "stream",
          "name": "stdout",
          "text": [
            "1 ;  (2,)\n"
          ]
        }
      ]
    },
    {
      "cell_type": "code",
      "source": [
        "x = x.reshape((m,1))\n",
        "print(x)"
      ],
      "metadata": {
        "colab": {
          "base_uri": "https://localhost:8080/"
        },
        "id": "xa20Km9k1aRS",
        "outputId": "9d788171-95cc-4d63-9a63-7b76ae86e037"
      },
      "execution_count": null,
      "outputs": [
        {
          "output_type": "stream",
          "name": "stdout",
          "text": [
            "[[2]\n",
            " [5]]\n"
          ]
        }
      ]
    },
    {
      "cell_type": "code",
      "source": [
        "print(x.ndim, '; ', x.shape)"
      ],
      "metadata": {
        "colab": {
          "base_uri": "https://localhost:8080/"
        },
        "id": "8a6V1YsN1b9L",
        "outputId": "09abc1aa-8abf-47bb-e2ab-b8515950f2bd"
      },
      "execution_count": null,
      "outputs": [
        {
          "output_type": "stream",
          "name": "stdout",
          "text": [
            "2 ;  (2, 1)\n"
          ]
        }
      ]
    },
    {
      "cell_type": "markdown",
      "source": [
        "Xếp thêm 1 vector cột vào đầu ma trận : x ∈ $R^m$ hay x ∈ $R^{m×1}$, X ∈ $R^{m×n}$,\n",
        "X = [x,X]"
      ],
      "metadata": {
        "id": "1i75eJ8z16uI"
      }
    },
    {
      "cell_type": "code",
      "source": [
        "X=np.array([1,2,3,4,5,6,7,8,9,10,11,12]).reshape((4,3))\n",
        "x = np.array([1,1,1,1]).reshape((4,1))\n",
        "X = np.column_stack([x,X])\n",
        "print(X)\n",
        "#số chiều và kích thước của ma trận\n",
        "print(X.ndim, '; ', X.shape)"
      ],
      "metadata": {
        "colab": {
          "base_uri": "https://localhost:8080/"
        },
        "id": "QxFRpqIU1-Mo",
        "outputId": "e34a1681-9bd3-4cdb-f056-aa7aca6554b5"
      },
      "execution_count": null,
      "outputs": [
        {
          "output_type": "stream",
          "name": "stdout",
          "text": [
            "[[ 1  1  2  3]\n",
            " [ 1  4  5  6]\n",
            " [ 1  7  8  9]\n",
            " [ 1 10 11 12]]\n",
            "2 ;  (4, 4)\n"
          ]
        }
      ]
    },
    {
      "cell_type": "markdown",
      "source": [
        "Tách 1 ma trận data ban đầu gồm n cột thành 1 ma trận con X chứa cácn-1 cột đầu tiên và 1 vector cột y lấy ra từ cột cuối cùng của data"
      ],
      "metadata": {
        "id": "y_SrIcML2Ad5"
      }
    },
    {
      "cell_type": "code",
      "source": [
        "data = np.array([[10,22,13,1],\n",
        "[9,6,5,0],\n",
        "[8,12,4,1],\n",
        "[6,5,7,0]])\n",
        "X = data[:,:-1]\n",
        "y = data[:,-1].reshape((data.shape[0], 1))\n",
        "print(X)\n",
        "print(X.ndim, '; ', X.shape)"
      ],
      "metadata": {
        "colab": {
          "base_uri": "https://localhost:8080/"
        },
        "id": "HsMRvR-E2CKr",
        "outputId": "ac385c48-16e3-4747-f3c2-9c0fc71cd6a5"
      },
      "execution_count": null,
      "outputs": [
        {
          "output_type": "stream",
          "name": "stdout",
          "text": [
            "[[10 22 13]\n",
            " [ 9  6  5]\n",
            " [ 8 12  4]\n",
            " [ 6  5  7]]\n",
            "2 ;  (4, 3)\n"
          ]
        }
      ]
    },
    {
      "cell_type": "code",
      "source": [
        "print(y)\n",
        "print(y.ndim, '; ', y.shape)"
      ],
      "metadata": {
        "colab": {
          "base_uri": "https://localhost:8080/"
        },
        "id": "pfXbSm1l2EFk",
        "outputId": "8f92ab5a-7885-48c2-cada-71b9928699ba"
      },
      "execution_count": null,
      "outputs": [
        {
          "output_type": "stream",
          "name": "stdout",
          "text": [
            "[[1]\n",
            " [0]\n",
            " [1]\n",
            " [0]]\n",
            "2 ;  (4, 1)\n"
          ]
        }
      ]
    },
    {
      "cell_type": "markdown",
      "source": [
        "3. Các phép toán với tensor hạng cao (≥\n",
        "3)"
      ],
      "metadata": {
        "id": "UKZfnnZl2G03"
      }
    },
    {
      "cell_type": "markdown",
      "source": [
        "Tạo 1 tensor T ∈ $R^{m×n×k}$ với m = 2, n= 2 và k = 3, các giá trị được sinh ngẫu nhiên. "
      ],
      "metadata": {
        "id": "FRWq0YNE2KY1"
      }
    },
    {
      "cell_type": "code",
      "source": [
        "import numpy as np\n",
        "m=2\n",
        "n=2\n",
        "k=3\n",
        "T = np.random.randint(low=0,high=5,size=m*n*k).reshape(m,n,k)\n",
        "print(T)"
      ],
      "metadata": {
        "colab": {
          "base_uri": "https://localhost:8080/"
        },
        "id": "2uWbd9wR2My5",
        "outputId": "f98b0495-c1d2-4bda-f699-14753719a56b"
      },
      "execution_count": null,
      "outputs": [
        {
          "output_type": "stream",
          "name": "stdout",
          "text": [
            "[[[4 1 3]\n",
            "  [0 1 1]]\n",
            "\n",
            " [[3 3 4]\n",
            "  [0 2 4]]]\n"
          ]
        }
      ]
    },
    {
      "cell_type": "code",
      "source": [
        "print(T.shape)"
      ],
      "metadata": {
        "colab": {
          "base_uri": "https://localhost:8080/"
        },
        "id": "Ek1Yw4kz2Oic",
        "outputId": "fd0a619b-ab54-4536-b37c-b684a2cc728e"
      },
      "execution_count": null,
      "outputs": [
        {
          "output_type": "stream",
          "name": "stdout",
          "text": [
            "(2, 2, 3)\n"
          ]
        }
      ]
    },
    {
      "cell_type": "markdown",
      "source": [
        "Tạo 1 tensor T2 ∈ $R^{m×n×k×q}$ chứa 2 tensor t1,t2 ∈ $R^{m×n×k}$, biết t1 và t2 được sinh ngẫu nhiên"
      ],
      "metadata": {
        "id": "RolY6QJv2RBF"
      }
    },
    {
      "cell_type": "code",
      "source": [
        "import numpy as np\n",
        "m=2\n",
        "n=2\n",
        "k=3\n",
        "t1 = np.random.randint(low=0,high=5,size=m*n*k).reshape(m,n,k)\n",
        "t2 = np.random.randint(low=0,high=5,size=m*n*k).reshape(m,n,k)\n",
        "T2 = np.stack((t1, t2), axis=0)\n",
        "print(T2)"
      ],
      "metadata": {
        "colab": {
          "base_uri": "https://localhost:8080/"
        },
        "id": "JvX8Y0VH2TfH",
        "outputId": "f484868a-8e0c-40ce-be51-360874561f20"
      },
      "execution_count": null,
      "outputs": [
        {
          "output_type": "stream",
          "name": "stdout",
          "text": [
            "[[[[1 1 1]\n",
            "   [1 4 1]]\n",
            "\n",
            "  [[1 1 4]\n",
            "   [1 1 0]]]\n",
            "\n",
            "\n",
            " [[[1 0 2]\n",
            "   [0 0 3]]\n",
            "\n",
            "  [[2 3 3]\n",
            "   [3 4 1]]]]\n"
          ]
        }
      ]
    },
    {
      "cell_type": "code",
      "source": [
        "print(T2.shape)"
      ],
      "metadata": {
        "colab": {
          "base_uri": "https://localhost:8080/"
        },
        "id": "MNml9p-O2VpV",
        "outputId": "661af86d-ff96-418c-be3e-e7e2ba7acc97"
      },
      "execution_count": null,
      "outputs": [
        {
          "output_type": "stream",
          "name": "stdout",
          "text": [
            "(2, 2, 2, 3)\n"
          ]
        }
      ]
    }
  ]
}