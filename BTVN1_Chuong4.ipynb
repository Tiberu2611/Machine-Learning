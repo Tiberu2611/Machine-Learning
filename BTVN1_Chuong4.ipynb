{
  "nbformat": 4,
  "nbformat_minor": 0,
  "metadata": {
    "colab": {
      "provenance": [],
      "authorship_tag": "ABX9TyNNOCTdfNE5c8pmCcUkb7Y1",
      "include_colab_link": true
    },
    "kernelspec": {
      "name": "python3",
      "display_name": "Python 3"
    },
    "language_info": {
      "name": "python"
    }
  },
  "cells": [
    {
      "cell_type": "markdown",
      "metadata": {
        "id": "view-in-github",
        "colab_type": "text"
      },
      "source": [
        "<a href=\"https://colab.research.google.com/github/Tiberu2611/Machine-Learning/blob/Machine-Learning-1/BTVN1_Chuong4.ipynb\" target=\"_parent\"><img src=\"https://colab.research.google.com/assets/colab-badge.svg\" alt=\"Open In Colab\"/></a>"
      ]
    },
    {
      "cell_type": "code",
      "execution_count": 1,
      "metadata": {
        "id": "Jd7kWf-p5hQN"
      },
      "outputs": [],
      "source": [
        "import os\n",
        "import numpy as np\n",
        "from sklearn.linear_model import LinearRegression\n",
        "from sklearn import preprocessing"
      ]
    },
    {
      "cell_type": "code",
      "source": [
        "data = np.loadtxt(os.path.join(\"/content/ex2data1.txt\"),delimiter=\",\")\n",
        "data = preprocessing.MinMaxScaler().fit_transform(data)\n",
        "print('Kích thước của tập dữ liệu: ',data.shape)\n",
        "X= data[:,:-1]\n",
        "y=data[:, -1]\n",
        "print('Kích thước tập X: ', X.shape)\n",
        "print('Kích thước vector y: ', y.shape)\n",
        "print('Huấn luyện mô hình LinearRegression')\n",
        "model = LinearRegression()\n",
        "#Huấn luyện mô hình với tập dữ liệu X, y\n",
        "model.fit(X,y)\n",
        "print('Trọng số tối ưu', model.coef_)"
      ],
      "metadata": {
        "colab": {
          "base_uri": "https://localhost:8080/"
        },
        "id": "bhgw3bN153Xw",
        "outputId": "a00c070c-e5aa-49b8-b3a2-01c395d6aae0"
      },
      "execution_count": 2,
      "outputs": [
        {
          "output_type": "stream",
          "name": "stdout",
          "text": [
            "Kích thước của tập dữ liệu:  (100, 3)\n",
            "Kích thước tập X:  (100, 2)\n",
            "Kích thước vector y:  (100,)\n",
            "Huấn luyện mô hình LinearRegression\n",
            "Trọng số tối ưu [1.03543352 0.95177872]\n"
          ]
        }
      ]
    }
  ]
}