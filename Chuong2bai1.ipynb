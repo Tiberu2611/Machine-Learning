{
  "cells": [
    {
      "cell_type": "markdown",
      "metadata": {
        "id": "view-in-github",
        "colab_type": "text"
      },
      "source": [
        "<a href=\"https://colab.research.google.com/github/Tiberu2611/Machine-Learning/blob/Machine-Learning-1/Chuong2bai1.ipynb\" target=\"_parent\"><img src=\"https://colab.research.google.com/assets/colab-badge.svg\" alt=\"Open In Colab\"/></a>"
      ]
    },
    {
      "cell_type": "markdown",
      "metadata": {
        "id": "AVJ_DnjPsxUd"
      },
      "source": [
        "Hãy viết hàm đọc dữ liệu từ tập tin sau, yêu cầu:\n",
        "- Trích X, y ra từ dữ liệu gốc\n",
        "- Chỉnh sửa X thêm 1 cột vector 1 vào bên trái\n",
        "- Trả về X và y\n",
        "- Hàm đặt tên là readData(folder, filename)\n",
        "- folder và filename là 2 tham số kiểu string chứa đường dẫn thư mục và tên tập tin dữ liệu"
      ]
    },
    {
      "cell_type": "code",
      "execution_count": null,
      "metadata": {
        "id": "VAy26Szcsx0W"
      },
      "outputs": [],
      "source": [
        "import numpy as np\n",
        "import os\n",
        "from google.colab import drive"
      ]
    },
    {
      "cell_type": "code",
      "execution_count": null,
      "metadata": {
        "id": "CpswQj1hs4ES"
      },
      "outputs": [],
      "source": [
        "def readData(folder,filename):\n",
        "  drive.mount(\"/content/drive\")\n",
        "  data=np.loadtxt(os.path.join(folder,filename),delimiter=',')\n",
        "  X=data[:,0]\n",
        "  y=data[:,1]\n",
        "  return X,y\n"
      ]
    }
  ],
  "metadata": {
    "colab": {
      "provenance": [],
      "authorship_tag": "ABX9TyPdh9tpecsgh9zEa/dwBPXj",
      "include_colab_link": true
    },
    "kernelspec": {
      "display_name": "Python 3",
      "name": "python3"
    },
    "language_info": {
      "name": "python"
    }
  },
  "nbformat": 4,
  "nbformat_minor": 0
}