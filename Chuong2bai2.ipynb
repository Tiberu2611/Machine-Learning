{
  "nbformat": 4,
  "nbformat_minor": 0,
  "metadata": {
    "colab": {
      "provenance": [],
      "authorship_tag": "ABX9TyNlb5lrj6CSxfYq0tukaaMF",
      "include_colab_link": true
    },
    "kernelspec": {
      "name": "python3",
      "display_name": "Python 3"
    },
    "language_info": {
      "name": "python"
    }
  },
  "cells": [
    {
      "cell_type": "markdown",
      "metadata": {
        "id": "view-in-github",
        "colab_type": "text"
      },
      "source": [
        "<a href=\"https://colab.research.google.com/github/Tiberu2611/Machine-Learning/blob/Machine-Learning-1/Chuong2bai2.ipynb\" target=\"_parent\"><img src=\"https://colab.research.google.com/assets/colab-badge.svg\" alt=\"Open In Colab\"/></a>"
      ]
    },
    {
      "cell_type": "markdown",
      "source": [
        "Xây dựng hàm mất mát \n",
        "- Tên hàm  calculateLoss(X, y, w)\n",
        "- Với X, y lần lượt là dữ liệu X và y; w là hệ số\n",
        "- Hàm trả về giá trị của hàm mất mát J tương ứng với tham số đầu vào ở trên"
      ],
      "metadata": {
        "id": "GM9GQqYpQRxd"
      }
    },
    {
      "cell_type": "code",
      "execution_count": 1,
      "metadata": {
        "id": "B7gb-YVKQOiz"
      },
      "outputs": [],
      "source": [
        "import numpy as np\n",
        "\n",
        "def calculateLoss(X,y,w):\n",
        "  m=y.shape[0]\n",
        "  h=np.dot(X,w)\n",
        "  J=(1/(2*m))*np.sum(np.square(h-y))\n",
        "  return J"
      ]
    }
  ]
}