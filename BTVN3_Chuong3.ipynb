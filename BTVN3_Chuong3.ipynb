{
  "nbformat": 4,
  "nbformat_minor": 0,
  "metadata": {
    "colab": {
      "provenance": [],
      "authorship_tag": "ABX9TyMzZtouhgBafVJdGqVwVFNS",
      "include_colab_link": true
    },
    "kernelspec": {
      "name": "python3",
      "display_name": "Python 3"
    },
    "language_info": {
      "name": "python"
    }
  },
  "cells": [
    {
      "cell_type": "markdown",
      "metadata": {
        "id": "view-in-github",
        "colab_type": "text"
      },
      "source": [
        "<a href=\"https://colab.research.google.com/github/Tiberu2611/Machine-Learning/blob/Machine-Learning-1/BTVN3_Chuong3.ipynb\" target=\"_parent\"><img src=\"https://colab.research.google.com/assets/colab-badge.svg\" alt=\"Open In Colab\"/></a>"
      ]
    },
    {
      "cell_type": "code",
      "execution_count": 4,
      "metadata": {
        "id": "_2ddNmMwcHUm"
      },
      "outputs": [],
      "source": [
        "import os\n",
        "import numpy as np\n",
        "from sklearn.linear_model import LinearRegression\n",
        "from sklearn import preprocessing"
      ]
    },
    {
      "cell_type": "code",
      "source": [
        "data = np.loadtxt(os.path.join(\"/content/ex1data2.txt\"),delimiter=\",\")\n",
        "data = preprocessing.MinMaxScaler().fit_transform(data)\n",
        "print('Kích thước của tập dữ liệu: ',data.shape)\n",
        "X= data[:,:-1]\n",
        "y=data[:, -1]\n",
        "print('Kích thước tập X: ', X.shape)\n",
        "print('Kích thước vector y: ', y.shape)\n",
        "print('Huấn luyện mô hình LinearRegression')\n",
        "model = LinearRegression()\n",
        "#Huấn luyện mô hình với tập dữ liệu X, y\n",
        "model.fit(X,y)\n",
        "print('trong so toi uu', model.coef_)"
      ],
      "metadata": {
        "id": "5fgkV8A6cknq",
        "colab": {
          "base_uri": "https://localhost:8080/"
        },
        "outputId": "68e021e4-c05e-4cae-ed8c-c9feb651f270"
      },
      "execution_count": 5,
      "outputs": [
        {
          "output_type": "stream",
          "name": "stdout",
          "text": [
            "Kích thước của tập dữ liệu:  (47, 3)\n",
            "Kích thước tập X:  (47, 2)\n",
            "Kích thước vector y:  (47,)\n",
            "Huấn luyện mô hình LinearRegression\n",
            "trong so toi uu [ 0.95241114 -0.06594731]\n"
          ]
        }
      ]
    }
  ]
}