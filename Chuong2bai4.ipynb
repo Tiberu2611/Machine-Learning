{
  "nbformat": 4,
  "nbformat_minor": 0,
  "metadata": {
    "colab": {
      "provenance": [],
      "authorship_tag": "ABX9TyNT/YFYG6YiJSmSgqpNr+ET",
      "include_colab_link": true
    },
    "kernelspec": {
      "name": "python3",
      "display_name": "Python 3"
    },
    "language_info": {
      "name": "python"
    }
  },
  "cells": [
    {
      "cell_type": "markdown",
      "metadata": {
        "id": "view-in-github",
        "colab_type": "text"
      },
      "source": [
        "<a href=\"https://colab.research.google.com/github/Tiberu2611/Machine-Learning/blob/Machine-Learning-1/Chuong2bai4.ipynb\" target=\"_parent\"><img src=\"https://colab.research.google.com/assets/colab-badge.svg\" alt=\"Open In Colab\"/></a>"
      ]
    },
    {
      "cell_type": "markdown",
      "source": [
        "Ghép các hàm của bài 1, 2 và 3 lại thành chương trình hoàn chỉnh"
      ],
      "metadata": {
        "id": "duk-uwYhSgKx"
      }
    },
    {
      "cell_type": "code",
      "execution_count": null,
      "metadata": {
        "id": "wJhf3ddRSbRT"
      },
      "outputs": [],
      "source": [
        "import os\n",
        "import numpy as np\n",
        "from matplotlib import pyplot as plt"
      ]
    },
    {
      "cell_type": "code",
      "source": [
        "def readData(folder, filename):\n",
        "    data = np.loadtxt(os.path.join(folder, filename), delimiter=',')\n",
        "    X = data[:,0]\n",
        "    y = data[:,1]\n",
        "    m = y.shape[0]\n",
        "    X = np.stack([np.ones(m), X], axis=1)\n",
        "    return X, y"
      ],
      "metadata": {
        "id": "0H9lognQUAk_"
      },
      "execution_count": null,
      "outputs": []
    },
    {
      "cell_type": "code",
      "source": [
        "def Loss_fuc(X, y, w):\n",
        "    m = y.shape[0]\n",
        "    J = 0\n",
        "    h = np.dot(X, w)\n",
        "    J = (1/(2*m))*np.sum(np.square(h - y))\n",
        "    return J"
      ],
      "metadata": {
        "id": "C7elllaAVLb4"
      },
      "execution_count": null,
      "outputs": []
    },
    {
      "cell_type": "code",
      "source": [
        "def gradientDescent(X, y, w, alpha, n):\n",
        "    m = y.shape[0]\n",
        "    J_history = []\n",
        "    w_optimal = w.copy()\n",
        "    for i in range(n):\n",
        "        w_optimal = w_optimal - (alpha/m)*(np.dot(X, w_optimal) - y).dot(X)\n",
        "        J_history.append(Loss_fuc(X, y, w_optimal))\n",
        "    return w_optimal, J_history"
      ],
      "metadata": {
        "id": "y4QuwGUyVNhV"
      },
      "execution_count": null,
      "outputs": []
    },
    {
      "cell_type": "code",
      "source": [
        "def main():\n",
        "    w = np.zeros(2)\n",
        "    n = 1500\n",
        "    alpha = 0.01\n",
        "    X, y = readData(\"/content\",\"ex1data1.txt\")\n",
        "    w, J_history = gradientDescent(X, y, w, alpha, n)\n",
        "    print(\"trong so toi uu : \", w)\n",
        "    print(\"ham mat mat\" , J_history[-1])\n",
        "\n",
        "if __name__ == '__main__':\n",
        "    main()"
      ],
      "metadata": {
        "id": "P0GYwyrGVRxa"
      },
      "execution_count": null,
      "outputs": []
    }
  ]
}