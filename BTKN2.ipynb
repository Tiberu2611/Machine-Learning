{
  "nbformat": 4,
  "nbformat_minor": 0,
  "metadata": {
    "colab": {
      "provenance": [],
      "authorship_tag": "ABX9TyPTzJuLekot1JnC2WWBll0R",
      "include_colab_link": true
    },
    "kernelspec": {
      "name": "python3",
      "display_name": "Python 3"
    },
    "language_info": {
      "name": "python"
    }
  },
  "cells": [
    {
      "cell_type": "markdown",
      "metadata": {
        "id": "view-in-github",
        "colab_type": "text"
      },
      "source": [
        "<a href=\"https://colab.research.google.com/github/Tiberu2611/Machine-Learning/blob/Machine-Learning-1/BTKN2.ipynb\" target=\"_parent\"><img src=\"https://colab.research.google.com/assets/colab-badge.svg\" alt=\"Open In Colab\"/></a>"
      ]
    },
    {
      "cell_type": "code",
      "execution_count": 1,
      "metadata": {
        "id": "gMOXWD3iutax"
      },
      "outputs": [],
      "source": [
        "import os\n",
        "import numpy as np\n",
        "from sklearn.model_selection import train_test_split\n",
        "from sklearn.metrics import mean_squared_error\n",
        "    "
      ]
    },
    {
      "cell_type": "code",
      "source": [
        "def read_scale_data(folder, filename):\n",
        "    D = np.loadtxt(os.path.join(folder, filename), delimiter=',')\n",
        "    X, y = D[:,:-1], D[:,-1]\n",
        "    X, y = scaleData(X, y)\n",
        "    x0 = np.ones((X.shape[0], 1))\n",
        "    X = np.column_stack([x0, X])\n",
        "    X_train, X_test, y_train, y_test = train_test_split(X, y,\n",
        "                                                        test_size=0.30, random_state=15)\n",
        "    y_train = np.reshape(y_train, (y_train.shape[0], 1))\n",
        "    y_test = np.reshape(y_test, (y_test.shape[0], 1))\n",
        "    return X_train, X_test, y_train, y_test"
      ],
      "metadata": {
        "id": "CykSXPM2u6_7"
      },
      "execution_count": 2,
      "outputs": []
    },
    {
      "cell_type": "code",
      "source": [
        "def featureVectorScaling(data):\n",
        "    avg = np.mean(data)\n",
        "    sln = data.max()\n",
        "    snn = data.min()\n",
        "    data_scl = (data - avg)/(sln - snn)\n",
        "    return data_scl"
      ],
      "metadata": {
        "id": "GcCLrI5g0jHT"
      },
      "execution_count": 3,
      "outputs": []
    },
    {
      "cell_type": "code",
      "source": [
        "def scaleData(X, y):\n",
        "    X_scl = X[:, 0]\n",
        "    for i in range(1, X.shape[1]):\n",
        "        scl = featureVectorScaling(X[:, i])\n",
        "        X_scl = np.column_stack([X_scl, scl])\n",
        "    y_scl = featureVectorScaling(y)\n",
        "    return X_scl, y_scl\n",
        "     "
      ],
      "metadata": {
        "id": "zVTCaEIQ0kiK"
      },
      "execution_count": 4,
      "outputs": []
    },
    {
      "cell_type": "code",
      "source": [
        "def computeLoss(X, y, w):\n",
        "    m = y.shape[0]\n",
        "    J = 0\n",
        "    h = np.dot(X, w)\n",
        "    J = (1/(2*m))*np.sum(np.square(h - y))\n",
        "    return J\n",
        "     "
      ],
      "metadata": {
        "id": "xUKg_8bR0l6y"
      },
      "execution_count": 5,
      "outputs": []
    },
    {
      "cell_type": "code",
      "source": [
        "def gradientDescent(X, y, w, alpha, n):\n",
        "    m = y.shape[0]\n",
        "    J_history = []\n",
        "    w_optimal = w.copy()\n",
        "    for i in range(n):\n",
        "        h = np.dot(X, w_optimal)\n",
        "        error = h - y\n",
        "        w_optimal = w_optimal - (alpha/m)*np.dot(X.T, error)\n",
        "        J_history.append(computeLoss(X, y, w_optimal))\n",
        "    return w_optimal, J_history"
      ],
      "metadata": {
        "id": "r8R_XVpI0p-D"
      },
      "execution_count": 6,
      "outputs": []
    },
    {
      "cell_type": "code",
      "source": [
        "def mse(y, y_hat):\n",
        "    m = y.shape[0]\n",
        "    result = (1/m)*np.sum(np.square(y - y_hat))\n",
        "    return result"
      ],
      "metadata": {
        "id": "lS_TKFN80qPq"
      },
      "execution_count": 7,
      "outputs": []
    },
    {
      "cell_type": "code",
      "source": [
        "def main():\n",
        "    n = 1500\n",
        "    alpha = 0.01\n",
        "    X_train, X_test, y_train, y_test = read_scale_data(\"/content\", \"ex1data2.txt\")\n",
        "    X_train, y_train = scaleData(X_train, y_train)\n",
        "    X_test, y_test = scaleData(X_test, y_test)\n",
        "    print('Huấn luyện mô hình trên tập dữ liệu train')\n",
        "    w = np.zeros((X_train.shape[1], 1))\n",
        "    w, J_history = gradientDescent(X_train, y_train, w, alpha, n)\n",
        "    print(\"\\t\\tOptimal weights are: \", w)\n",
        "    print(\"\\t\\tLoss function: \", J_history[-1])\n",
        "    print('Đánh giá mô hình trên tập dữ liệu test')\n",
        "    y_hat = np.dot(X_test, w)\n",
        "    print(\"\\t\\tMSE: \", mse(y_test, y_hat))\n",
        "    print('\\t\\tSử dụng sklearn MSE: ', mean_squared_error(y_test, y_hat))\n",
        "if __name__ == '__main__':\n",
        "    main()"
      ],
      "metadata": {
        "colab": {
          "base_uri": "https://localhost:8080/"
        },
        "id": "2hHDIwb_0tr0",
        "outputId": "bed8e942-b0d0-4654-c491-3d94c5ddb93e"
      },
      "execution_count": 8,
      "outputs": [
        {
          "output_type": "stream",
          "name": "stdout",
          "text": [
            "Huấn luyện mô hình trên tập dữ liệu train\n",
            "\t\tOptimal weights are:  [[6.86083135e-18]\n",
            " [4.18940795e-01]\n",
            " [2.04975943e-01]]\n",
            "\t\tLoss function:  0.011882257412839537\n",
            "Đánh giá mô hình trên tập dữ liệu test\n",
            "\t\tMSE:  0.06487534316456738\n",
            "\t\tSử dụng sklearn MSE:  0.06487534316456738\n"
          ]
        }
      ]
    }
  ]
}